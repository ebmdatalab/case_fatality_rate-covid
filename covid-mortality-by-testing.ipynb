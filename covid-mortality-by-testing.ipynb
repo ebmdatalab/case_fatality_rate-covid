{
 "cells": [
  {
   "cell_type": "markdown",
   "metadata": {},
   "source": [
    "# COVID mortality rate by testing"
   ]
  },
  {
   "cell_type": "code",
   "execution_count": 2,
   "metadata": {},
   "outputs": [],
   "source": [
    "library(rvest)\n",
    "library(data.table)\n",
    "library(stringr)\n",
    "library(meta)"
   ]
  },
  {
   "cell_type": "code",
   "execution_count": 3,
   "metadata": {},
   "outputs": [],
   "source": [
    "# timestamp for saving the file. \n",
    "timestamp  = Sys.time()\n",
    "\n",
    "cases_url = 'https://www.worldometers.info/coronavirus/'\n",
    "cases = read_html(cases_url)  \n",
    "casedata = html_nodes(cases, '#main_table_countries_today')\n",
    "cdt = html_table(casedata)\n",
    "\n",
    "# extract the updating time \n",
    "timest = html_nodes(cases,'div:nth-child(5)')\n",
    "ts = html_text(timest)[[1]]"
   ]
  },
  {
   "cell_type": "code",
   "execution_count": 4,
   "metadata": {
    "lines_to_next_cell": 2
   },
   "outputs": [],
   "source": [
    "# turn the data into a data.table object\n",
    "cdt = setDT(cdt[[1]])\n",
    "setnames(cdt,old = 'Country,Other', new = 'Country')\n",
    "cdt[,TotalDeaths:=as.numeric(str_replace(TotalDeaths,\",\",\"\"))]\n",
    "cdt[,TotalCases:=as.numeric(str_replace(TotalCases,\",\",\"\"))]"
   ]
  },
  {
   "cell_type": "code",
   "execution_count": 5,
   "metadata": {
    "lines_to_next_cell": 2
   },
   "outputs": [],
   "source": [
    "# change character to numeric variables \n",
    "cdt[,TotalDeaths:=as.numeric(TotalDeaths)] \n",
    "cdt[,NewDeaths:=as.numeric(NewDeaths)]\n",
    "cdt[is.na(TotalDeaths), TotalDeaths:=0]\n",
    "cdt[is.na(NewDeaths), NewDeaths:=0]\n",
    "cdt[,CFR:=((TotalDeaths)/TotalCases)*100, by = Country]\n",
    "cdt[Country==\"S. Korea\", Country:=\"South Korea\"]"
   ]
  },
  {
   "cell_type": "code",
   "execution_count": 6,
   "metadata": {
    "lines_to_next_cell": 2
   },
   "outputs": [
    {
     "data": {
      "text/html": [
       "<table>\n",
       "<caption>A data.table: 38 × 10</caption>\n",
       "<thead>\n",
       "\t<tr><th scope=col>Country</th><th scope=col>TotalCases</th><th scope=col>NewCases</th><th scope=col>TotalDeaths</th><th scope=col>NewDeaths</th><th scope=col>TotalRecovered</th><th scope=col>ActiveCases</th><th scope=col>Serious,Critical</th><th scope=col>Tot Cases/1M pop</th><th scope=col>CFR</th></tr>\n",
       "\t<tr><th scope=col>&lt;chr&gt;</th><th scope=col>&lt;dbl&gt;</th><th scope=col>&lt;chr&gt;</th><th scope=col>&lt;dbl&gt;</th><th scope=col>&lt;dbl&gt;</th><th scope=col>&lt;chr&gt;</th><th scope=col>&lt;chr&gt;</th><th scope=col>&lt;chr&gt;</th><th scope=col>&lt;chr&gt;</th><th scope=col>&lt;dbl&gt;</th></tr>\n",
       "</thead>\n",
       "<tbody>\n",
       "\t<tr><td>China      </td><td>81008</td><td>+41   </td><td>3255</td><td>  7</td><td>71,740</td><td>6,013 </td><td>1,927</td><td>56   </td><td> 4.0181217</td></tr>\n",
       "\t<tr><td>Italy      </td><td>47021</td><td>      </td><td>4032</td><td>  0</td><td>5,129 </td><td>37,860</td><td>2,655</td><td>778  </td><td> 8.5748921</td></tr>\n",
       "\t<tr><td>Spain      </td><td>24926</td><td>+3,355</td><td>1326</td><td>233</td><td>2,125 </td><td>21,475</td><td>939  </td><td>533  </td><td> 5.3197464</td></tr>\n",
       "\t<tr><td>Iran       </td><td>20610</td><td>+966  </td><td>1556</td><td>123</td><td>7,635 </td><td>11,419</td><td>     </td><td>245  </td><td> 7.5497331</td></tr>\n",
       "\t<tr><td>Germany    </td><td>20581</td><td>+733  </td><td>  72</td><td>  4</td><td>209   </td><td>20,300</td><td>2    </td><td>246  </td><td> 0.3498372</td></tr>\n",
       "\t<tr><td>USA        </td><td>19775</td><td>+392  </td><td> 276</td><td> 20</td><td>147   </td><td>19,352</td><td>64   </td><td>60   </td><td> 1.3957016</td></tr>\n",
       "\t<tr><td>France     </td><td>12612</td><td>      </td><td> 450</td><td>  0</td><td>1,587 </td><td>10,575</td><td>1,297</td><td>193  </td><td> 3.5680304</td></tr>\n",
       "\t<tr><td>South Korea</td><td> 8799</td><td>+147  </td><td> 102</td><td>  8</td><td>2,612 </td><td>6,085 </td><td>59   </td><td>172  </td><td> 1.1592226</td></tr>\n",
       "\t<tr><td>Switzerland</td><td> 6186</td><td>+571  </td><td>  58</td><td>  2</td><td>15    </td><td>6,113 </td><td>141  </td><td>715  </td><td> 0.9376010</td></tr>\n",
       "\t<tr><td>UK         </td><td> 3983</td><td>      </td><td> 177</td><td>  0</td><td>65    </td><td>3,741 </td><td>20   </td><td>59   </td><td> 4.4438865</td></tr>\n",
       "\t<tr><td>Netherlands</td><td> 2994</td><td>      </td><td> 106</td><td>  0</td><td>2     </td><td>2,886 </td><td>210  </td><td>175  </td><td> 3.5404142</td></tr>\n",
       "\t<tr><td>Belgium    </td><td> 2815</td><td>+558  </td><td>  67</td><td> 30</td><td>263   </td><td>2,485 </td><td>288  </td><td>243  </td><td> 2.3801066</td></tr>\n",
       "\t<tr><td>Austria    </td><td> 2719</td><td>+70   </td><td>   7</td><td>  1</td><td>9     </td><td>2,703 </td><td>15   </td><td>302  </td><td> 0.2574476</td></tr>\n",
       "\t<tr><td>Norway     </td><td> 1995</td><td>+36   </td><td>   7</td><td>  0</td><td>1     </td><td>1,987 </td><td>27   </td><td>368  </td><td> 0.3508772</td></tr>\n",
       "\t<tr><td>Sweden     </td><td> 1657</td><td>+18   </td><td>  16</td><td>  0</td><td>16    </td><td>1,625 </td><td>69   </td><td>164  </td><td> 0.9656005</td></tr>\n",
       "\t<tr><td>Denmark    </td><td> 1326</td><td>+71   </td><td>  13</td><td>  4</td><td>1     </td><td>1,312 </td><td>42   </td><td>229  </td><td> 0.9803922</td></tr>\n",
       "\t<tr><td>Portugal   </td><td> 1280</td><td>+260  </td><td>  12</td><td>  6</td><td>5     </td><td>1,263 </td><td>26   </td><td>126  </td><td> 0.9375000</td></tr>\n",
       "\t<tr><td>Malaysia   </td><td> 1183</td><td>+153  </td><td>   4</td><td>  1</td><td>114   </td><td>1,065 </td><td>26   </td><td>37   </td><td> 0.3381234</td></tr>\n",
       "\t<tr><td>Canada     </td><td> 1087</td><td>      </td><td>  12</td><td>  0</td><td>14    </td><td>1,061 </td><td>1    </td><td>29   </td><td> 1.1039558</td></tr>\n",
       "\t<tr><td>Australia  </td><td> 1068</td><td>+140  </td><td>   7</td><td>  0</td><td>46    </td><td>1,015 </td><td>2    </td><td>42   </td><td> 0.6554307</td></tr>\n",
       "\t<tr><td>Japan      </td><td> 1007</td><td>      </td><td>  35</td><td>  0</td><td>215   </td><td>757   </td><td>50   </td><td>8    </td><td> 3.4756703</td></tr>\n",
       "\t<tr><td>Brazil     </td><td>  978</td><td>+8    </td><td>  11</td><td>  0</td><td>2     </td><td>965   </td><td>18   </td><td>5    </td><td> 1.1247444</td></tr>\n",
       "\t<tr><td>Turkey     </td><td>  670</td><td>      </td><td>   9</td><td>  0</td><td>      </td><td>661   </td><td>     </td><td>8    </td><td> 1.3432836</td></tr>\n",
       "\t<tr><td>Luxembourg </td><td>  670</td><td>+186  </td><td>   8</td><td>  3</td><td>6     </td><td>656   </td><td>1    </td><td>1,070</td><td> 1.1940299</td></tr>\n",
       "\t<tr><td>Greece     </td><td>  495</td><td>      </td><td>  10</td><td>  0</td><td>19    </td><td>466   </td><td>20   </td><td>47   </td><td> 2.0202020</td></tr>\n",
       "\t<tr><td>Indonesia  </td><td>  450</td><td>+81   </td><td>  38</td><td>  6</td><td>20    </td><td>392   </td><td>     </td><td>2    </td><td> 8.4444444</td></tr>\n",
       "\t<tr><td>Poland     </td><td>  439</td><td>+14   </td><td>   5</td><td>  0</td><td>13    </td><td>421   </td><td>3    </td><td>12   </td><td> 1.1389522</td></tr>\n",
       "\t<tr><td>Ecuador    </td><td>  426</td><td>      </td><td>   7</td><td>  0</td><td>3     </td><td>416   </td><td>2    </td><td>24   </td><td> 1.6431925</td></tr>\n",
       "\t<tr><td>Philippines</td><td>  307</td><td>+77   </td><td>  19</td><td>  1</td><td>13    </td><td>275   </td><td>1    </td><td>3    </td><td> 6.1889251</td></tr>\n",
       "\t<tr><td>Egypt      </td><td>  285</td><td>      </td><td>   8</td><td>  0</td><td>42    </td><td>235   </td><td>     </td><td>3    </td><td> 2.8070175</td></tr>\n",
       "\t<tr><td>India      </td><td>  283</td><td>+34   </td><td>   5</td><td>  0</td><td>23    </td><td>255   </td><td>     </td><td>0.2  </td><td> 1.7667845</td></tr>\n",
       "\t<tr><td>Hong Kong  </td><td>  273</td><td>+17   </td><td>   4</td><td>  0</td><td>98    </td><td>171   </td><td>4    </td><td>36   </td><td> 1.4652015</td></tr>\n",
       "\t<tr><td>Peru       </td><td>  263</td><td>      </td><td>   4</td><td>  0</td><td>1     </td><td>258   </td><td>5    </td><td>8    </td><td> 1.5209125</td></tr>\n",
       "\t<tr><td>Iraq       </td><td>  208</td><td>      </td><td>  17</td><td>  0</td><td>49    </td><td>142   </td><td>     </td><td>5    </td><td> 8.1730769</td></tr>\n",
       "\t<tr><td>Lebanon    </td><td>  187</td><td>+10   </td><td>   4</td><td>  0</td><td>8     </td><td>175   </td><td>3    </td><td>27   </td><td> 2.1390374</td></tr>\n",
       "\t<tr><td>San Marino </td><td>  151</td><td>      </td><td>  14</td><td>  0</td><td>4     </td><td>133   </td><td>12   </td><td>4,450</td><td> 9.2715232</td></tr>\n",
       "\t<tr><td>Hungary    </td><td>  103</td><td>+18   </td><td>   4</td><td>  0</td><td>7     </td><td>92    </td><td>6    </td><td>11   </td><td> 3.8834951</td></tr>\n",
       "\t<tr><td>Algeria    </td><td>   95</td><td>+1    </td><td>  11</td><td>  0</td><td>32    </td><td>52    </td><td>     </td><td>2    </td><td>11.5789474</td></tr>\n",
       "</tbody>\n",
       "</table>\n"
      ],
      "text/latex": [
       "A data.table: 38 × 10\n",
       "\\begin{tabular}{llllllllll}\n",
       " Country & TotalCases & NewCases & TotalDeaths & NewDeaths & TotalRecovered & ActiveCases & Serious,Critical & Tot Cases/1M pop & CFR\\\\\n",
       " <chr> & <dbl> & <chr> & <dbl> & <dbl> & <chr> & <chr> & <chr> & <chr> & <dbl>\\\\\n",
       "\\hline\n",
       "\t China       & 81008 & +41    & 3255 &   7 & 71,740 & 6,013  & 1,927 & 56    &  4.0181217\\\\\n",
       "\t Italy       & 47021 &        & 4032 &   0 & 5,129  & 37,860 & 2,655 & 778   &  8.5748921\\\\\n",
       "\t Spain       & 24926 & +3,355 & 1326 & 233 & 2,125  & 21,475 & 939   & 533   &  5.3197464\\\\\n",
       "\t Iran        & 20610 & +966   & 1556 & 123 & 7,635  & 11,419 &       & 245   &  7.5497331\\\\\n",
       "\t Germany     & 20581 & +733   &   72 &   4 & 209    & 20,300 & 2     & 246   &  0.3498372\\\\\n",
       "\t USA         & 19775 & +392   &  276 &  20 & 147    & 19,352 & 64    & 60    &  1.3957016\\\\\n",
       "\t France      & 12612 &        &  450 &   0 & 1,587  & 10,575 & 1,297 & 193   &  3.5680304\\\\\n",
       "\t South Korea &  8799 & +147   &  102 &   8 & 2,612  & 6,085  & 59    & 172   &  1.1592226\\\\\n",
       "\t Switzerland &  6186 & +571   &   58 &   2 & 15     & 6,113  & 141   & 715   &  0.9376010\\\\\n",
       "\t UK          &  3983 &        &  177 &   0 & 65     & 3,741  & 20    & 59    &  4.4438865\\\\\n",
       "\t Netherlands &  2994 &        &  106 &   0 & 2      & 2,886  & 210   & 175   &  3.5404142\\\\\n",
       "\t Belgium     &  2815 & +558   &   67 &  30 & 263    & 2,485  & 288   & 243   &  2.3801066\\\\\n",
       "\t Austria     &  2719 & +70    &    7 &   1 & 9      & 2,703  & 15    & 302   &  0.2574476\\\\\n",
       "\t Norway      &  1995 & +36    &    7 &   0 & 1      & 1,987  & 27    & 368   &  0.3508772\\\\\n",
       "\t Sweden      &  1657 & +18    &   16 &   0 & 16     & 1,625  & 69    & 164   &  0.9656005\\\\\n",
       "\t Denmark     &  1326 & +71    &   13 &   4 & 1      & 1,312  & 42    & 229   &  0.9803922\\\\\n",
       "\t Portugal    &  1280 & +260   &   12 &   6 & 5      & 1,263  & 26    & 126   &  0.9375000\\\\\n",
       "\t Malaysia    &  1183 & +153   &    4 &   1 & 114    & 1,065  & 26    & 37    &  0.3381234\\\\\n",
       "\t Canada      &  1087 &        &   12 &   0 & 14     & 1,061  & 1     & 29    &  1.1039558\\\\\n",
       "\t Australia   &  1068 & +140   &    7 &   0 & 46     & 1,015  & 2     & 42    &  0.6554307\\\\\n",
       "\t Japan       &  1007 &        &   35 &   0 & 215    & 757    & 50    & 8     &  3.4756703\\\\\n",
       "\t Brazil      &   978 & +8     &   11 &   0 & 2      & 965    & 18    & 5     &  1.1247444\\\\\n",
       "\t Turkey      &   670 &        &    9 &   0 &        & 661    &       & 8     &  1.3432836\\\\\n",
       "\t Luxembourg  &   670 & +186   &    8 &   3 & 6      & 656    & 1     & 1,070 &  1.1940299\\\\\n",
       "\t Greece      &   495 &        &   10 &   0 & 19     & 466    & 20    & 47    &  2.0202020\\\\\n",
       "\t Indonesia   &   450 & +81    &   38 &   6 & 20     & 392    &       & 2     &  8.4444444\\\\\n",
       "\t Poland      &   439 & +14    &    5 &   0 & 13     & 421    & 3     & 12    &  1.1389522\\\\\n",
       "\t Ecuador     &   426 &        &    7 &   0 & 3      & 416    & 2     & 24    &  1.6431925\\\\\n",
       "\t Philippines &   307 & +77    &   19 &   1 & 13     & 275    & 1     & 3     &  6.1889251\\\\\n",
       "\t Egypt       &   285 &        &    8 &   0 & 42     & 235    &       & 3     &  2.8070175\\\\\n",
       "\t India       &   283 & +34    &    5 &   0 & 23     & 255    &       & 0.2   &  1.7667845\\\\\n",
       "\t Hong Kong   &   273 & +17    &    4 &   0 & 98     & 171    & 4     & 36    &  1.4652015\\\\\n",
       "\t Peru        &   263 &        &    4 &   0 & 1      & 258    & 5     & 8     &  1.5209125\\\\\n",
       "\t Iraq        &   208 &        &   17 &   0 & 49     & 142    &       & 5     &  8.1730769\\\\\n",
       "\t Lebanon     &   187 & +10    &    4 &   0 & 8      & 175    & 3     & 27    &  2.1390374\\\\\n",
       "\t San Marino  &   151 &        &   14 &   0 & 4      & 133    & 12    & 4,450 &  9.2715232\\\\\n",
       "\t Hungary     &   103 & +18    &    4 &   0 & 7      & 92     & 6     & 11    &  3.8834951\\\\\n",
       "\t Algeria     &    95 & +1     &   11 &   0 & 32     & 52     &       & 2     & 11.5789474\\\\\n",
       "\\end{tabular}\n"
      ],
      "text/markdown": [
       "\n",
       "A data.table: 38 × 10\n",
       "\n",
       "| Country &lt;chr&gt; | TotalCases &lt;dbl&gt; | NewCases &lt;chr&gt; | TotalDeaths &lt;dbl&gt; | NewDeaths &lt;dbl&gt; | TotalRecovered &lt;chr&gt; | ActiveCases &lt;chr&gt; | Serious,Critical &lt;chr&gt; | Tot Cases/1M pop &lt;chr&gt; | CFR &lt;dbl&gt; |\n",
       "|---|---|---|---|---|---|---|---|---|---|\n",
       "| China       | 81008 | +41    | 3255 |   7 | 71,740 | 6,013  | 1,927 | 56    |  4.0181217 |\n",
       "| Italy       | 47021 | <!----> | 4032 |   0 | 5,129  | 37,860 | 2,655 | 778   |  8.5748921 |\n",
       "| Spain       | 24926 | +3,355 | 1326 | 233 | 2,125  | 21,475 | 939   | 533   |  5.3197464 |\n",
       "| Iran        | 20610 | +966   | 1556 | 123 | 7,635  | 11,419 | <!----> | 245   |  7.5497331 |\n",
       "| Germany     | 20581 | +733   |   72 |   4 | 209    | 20,300 | 2     | 246   |  0.3498372 |\n",
       "| USA         | 19775 | +392   |  276 |  20 | 147    | 19,352 | 64    | 60    |  1.3957016 |\n",
       "| France      | 12612 | <!----> |  450 |   0 | 1,587  | 10,575 | 1,297 | 193   |  3.5680304 |\n",
       "| South Korea |  8799 | +147   |  102 |   8 | 2,612  | 6,085  | 59    | 172   |  1.1592226 |\n",
       "| Switzerland |  6186 | +571   |   58 |   2 | 15     | 6,113  | 141   | 715   |  0.9376010 |\n",
       "| UK          |  3983 | <!----> |  177 |   0 | 65     | 3,741  | 20    | 59    |  4.4438865 |\n",
       "| Netherlands |  2994 | <!----> |  106 |   0 | 2      | 2,886  | 210   | 175   |  3.5404142 |\n",
       "| Belgium     |  2815 | +558   |   67 |  30 | 263    | 2,485  | 288   | 243   |  2.3801066 |\n",
       "| Austria     |  2719 | +70    |    7 |   1 | 9      | 2,703  | 15    | 302   |  0.2574476 |\n",
       "| Norway      |  1995 | +36    |    7 |   0 | 1      | 1,987  | 27    | 368   |  0.3508772 |\n",
       "| Sweden      |  1657 | +18    |   16 |   0 | 16     | 1,625  | 69    | 164   |  0.9656005 |\n",
       "| Denmark     |  1326 | +71    |   13 |   4 | 1      | 1,312  | 42    | 229   |  0.9803922 |\n",
       "| Portugal    |  1280 | +260   |   12 |   6 | 5      | 1,263  | 26    | 126   |  0.9375000 |\n",
       "| Malaysia    |  1183 | +153   |    4 |   1 | 114    | 1,065  | 26    | 37    |  0.3381234 |\n",
       "| Canada      |  1087 | <!----> |   12 |   0 | 14     | 1,061  | 1     | 29    |  1.1039558 |\n",
       "| Australia   |  1068 | +140   |    7 |   0 | 46     | 1,015  | 2     | 42    |  0.6554307 |\n",
       "| Japan       |  1007 | <!----> |   35 |   0 | 215    | 757    | 50    | 8     |  3.4756703 |\n",
       "| Brazil      |   978 | +8     |   11 |   0 | 2      | 965    | 18    | 5     |  1.1247444 |\n",
       "| Turkey      |   670 | <!----> |    9 |   0 | <!----> | 661    | <!----> | 8     |  1.3432836 |\n",
       "| Luxembourg  |   670 | +186   |    8 |   3 | 6      | 656    | 1     | 1,070 |  1.1940299 |\n",
       "| Greece      |   495 | <!----> |   10 |   0 | 19     | 466    | 20    | 47    |  2.0202020 |\n",
       "| Indonesia   |   450 | +81    |   38 |   6 | 20     | 392    | <!----> | 2     |  8.4444444 |\n",
       "| Poland      |   439 | +14    |    5 |   0 | 13     | 421    | 3     | 12    |  1.1389522 |\n",
       "| Ecuador     |   426 | <!----> |    7 |   0 | 3      | 416    | 2     | 24    |  1.6431925 |\n",
       "| Philippines |   307 | +77    |   19 |   1 | 13     | 275    | 1     | 3     |  6.1889251 |\n",
       "| Egypt       |   285 | <!----> |    8 |   0 | 42     | 235    | <!----> | 3     |  2.8070175 |\n",
       "| India       |   283 | +34    |    5 |   0 | 23     | 255    | <!----> | 0.2   |  1.7667845 |\n",
       "| Hong Kong   |   273 | +17    |    4 |   0 | 98     | 171    | 4     | 36    |  1.4652015 |\n",
       "| Peru        |   263 | <!----> |    4 |   0 | 1      | 258    | 5     | 8     |  1.5209125 |\n",
       "| Iraq        |   208 | <!----> |   17 |   0 | 49     | 142    | <!----> | 5     |  8.1730769 |\n",
       "| Lebanon     |   187 | +10    |    4 |   0 | 8      | 175    | 3     | 27    |  2.1390374 |\n",
       "| San Marino  |   151 | <!----> |   14 |   0 | 4      | 133    | 12    | 4,450 |  9.2715232 |\n",
       "| Hungary     |   103 | +18    |    4 |   0 | 7      | 92     | 6     | 11    |  3.8834951 |\n",
       "| Algeria     |    95 | +1     |   11 |   0 | 32     | 52     | <!----> | 2     | 11.5789474 |\n",
       "\n"
      ],
      "text/plain": [
       "   Country     TotalCases NewCases TotalDeaths NewDeaths TotalRecovered\n",
       "1  China       81008      +41      3255          7       71,740        \n",
       "2  Italy       47021               4032          0       5,129         \n",
       "3  Spain       24926      +3,355   1326        233       2,125         \n",
       "4  Iran        20610      +966     1556        123       7,635         \n",
       "5  Germany     20581      +733       72          4       209           \n",
       "6  USA         19775      +392      276         20       147           \n",
       "7  France      12612                450          0       1,587         \n",
       "8  South Korea  8799      +147      102          8       2,612         \n",
       "9  Switzerland  6186      +571       58          2       15            \n",
       "10 UK           3983                177          0       65            \n",
       "11 Netherlands  2994                106          0       2             \n",
       "12 Belgium      2815      +558       67         30       263           \n",
       "13 Austria      2719      +70         7          1       9             \n",
       "14 Norway       1995      +36         7          0       1             \n",
       "15 Sweden       1657      +18        16          0       16            \n",
       "16 Denmark      1326      +71        13          4       1             \n",
       "17 Portugal     1280      +260       12          6       5             \n",
       "18 Malaysia     1183      +153        4          1       114           \n",
       "19 Canada       1087                 12          0       14            \n",
       "20 Australia    1068      +140        7          0       46            \n",
       "21 Japan        1007                 35          0       215           \n",
       "22 Brazil        978      +8         11          0       2             \n",
       "23 Turkey        670                  9          0                     \n",
       "24 Luxembourg    670      +186        8          3       6             \n",
       "25 Greece        495                 10          0       19            \n",
       "26 Indonesia     450      +81        38          6       20            \n",
       "27 Poland        439      +14         5          0       13            \n",
       "28 Ecuador       426                  7          0       3             \n",
       "29 Philippines   307      +77        19          1       13            \n",
       "30 Egypt         285                  8          0       42            \n",
       "31 India         283      +34         5          0       23            \n",
       "32 Hong Kong     273      +17         4          0       98            \n",
       "33 Peru          263                  4          0       1             \n",
       "34 Iraq          208                 17          0       49            \n",
       "35 Lebanon       187      +10         4          0       8             \n",
       "36 San Marino    151                 14          0       4             \n",
       "37 Hungary       103      +18         4          0       7             \n",
       "38 Algeria        95      +1         11          0       32            \n",
       "   ActiveCases Serious,Critical Tot Cases/1M pop CFR       \n",
       "1  6,013       1,927            56                4.0181217\n",
       "2  37,860      2,655            778               8.5748921\n",
       "3  21,475      939              533               5.3197464\n",
       "4  11,419                       245               7.5497331\n",
       "5  20,300      2                246               0.3498372\n",
       "6  19,352      64               60                1.3957016\n",
       "7  10,575      1,297            193               3.5680304\n",
       "8  6,085       59               172               1.1592226\n",
       "9  6,113       141              715               0.9376010\n",
       "10 3,741       20               59                4.4438865\n",
       "11 2,886       210              175               3.5404142\n",
       "12 2,485       288              243               2.3801066\n",
       "13 2,703       15               302               0.2574476\n",
       "14 1,987       27               368               0.3508772\n",
       "15 1,625       69               164               0.9656005\n",
       "16 1,312       42               229               0.9803922\n",
       "17 1,263       26               126               0.9375000\n",
       "18 1,065       26               37                0.3381234\n",
       "19 1,061       1                29                1.1039558\n",
       "20 1,015       2                42                0.6554307\n",
       "21 757         50               8                 3.4756703\n",
       "22 965         18               5                 1.1247444\n",
       "23 661                          8                 1.3432836\n",
       "24 656         1                1,070             1.1940299\n",
       "25 466         20               47                2.0202020\n",
       "26 392                          2                 8.4444444\n",
       "27 421         3                12                1.1389522\n",
       "28 416         2                24                1.6431925\n",
       "29 275         1                3                 6.1889251\n",
       "30 235                          3                 2.8070175\n",
       "31 255                          0.2               1.7667845\n",
       "32 171         4                36                1.4652015\n",
       "33 258         5                8                 1.5209125\n",
       "34 142                          5                 8.1730769\n",
       "35 175         3                27                2.1390374\n",
       "36 133         12               4,450             9.2715232\n",
       "37 92          6                11                3.8834951\n",
       "38 52                           2                11.5789474"
      ]
     },
     "metadata": {},
     "output_type": "display_data"
    }
   ],
   "source": [
    "# Exclusions \n",
    "cdt2 = cdt[TotalDeaths > 3]\n",
    "cdt3 = cdt2[!{Country==\"Diamond Princess\" | Country==\"Total:\"}]\n",
    "cdt3"
   ]
  },
  {
   "cell_type": "code",
   "execution_count": 7,
   "metadata": {
    "lines_to_next_cell": 2
   },
   "outputs": [],
   "source": [
    "# Change the layour of the confidence interval \n",
    "cilayout(bracket = \"(\", separator = \" to \")"
   ]
  },
  {
   "cell_type": "code",
   "execution_count": 8,
   "metadata": {
    "lines_to_next_cell": 2
   },
   "outputs": [],
   "source": [
    "# Run the meta-analysis \n",
    "MA = metaprop(event = TotalDeaths, \n",
    "              n = TotalCases, \n",
    "              data = cdt3,\n",
    "              studlab = Country,\n",
    "              comb.random = F, \n",
    "              prediction  = T,\n",
    "              method = \"Inverse\",\n",
    ")"
   ]
  },
  {
   "cell_type": "code",
   "execution_count": 9,
   "metadata": {
    "lines_to_next_cell": 0
   },
   "outputs": [
    {
     "data": {
      "text/html": [
       "<strong>png:</strong> 2"
      ],
      "text/latex": [
       "\\textbf{png:} 2"
      ],
      "text/markdown": [
       "**png:** 2"
      ],
      "text/plain": [
       "png \n",
       "  2 "
      ]
     },
     "metadata": {},
     "output_type": "display_data"
    },
    {
     "data": {
      "text/html": [
       "TRUE"
      ],
      "text/latex": [
       "TRUE"
      ],
      "text/markdown": [
       "TRUE"
      ],
      "text/plain": [
       "[1] TRUE"
      ]
     },
     "metadata": {},
     "output_type": "display_data"
    }
   ],
   "source": [
    "fnm = paste0(\"CFR_analysis_\",substring(timestamp,0,10),\".png\")\n",
    "png(filename = fnm, res = 300, height= 2400, width = 3000)\n",
    "forest(MA,sortvar = -cdt3$CFR,prediction = T,leftlabs = c(\"Country\",\"Deaths\",\"Cases\"), digits.tau2 = 2, \n",
    "       pscale = 100, rightlabs = c(\"Case Fatality (%)\",\"95%-CI\"),#xlim=c(0,45), \n",
    "       overall = F, colgap.left = \"4mm\",fontsize = 10,\n",
    "       text.addline1 = \"\\n\", text.addline2 = paste0(ts), \n",
    "       ff.addline = \"bold\")\n",
    "\n",
    "dev.off()\n",
    "# Copy to current file name\n",
    "file.copy(fnm, \"CFR_analysis.png\")"
   ]
  },
  {
   "cell_type": "markdown",
   "metadata": {},
   "source": [
    "![title](./CFR_analysis.png)"
   ]
  },
  {
   "cell_type": "code",
   "execution_count": null,
   "metadata": {},
   "outputs": [],
   "source": []
  }
 ],
 "metadata": {
  "jupytext": {
   "cell_metadata_filter": "all",
   "notebook_metadata_filter": "all,-language_info",
   "text_representation": {
    "extension": ".py",
    "format_name": "light",
    "format_version": "1.5",
    "jupytext_version": "1.3.3"
   }
  },
  "kernelspec": {
   "display_name": "R",
   "language": "R",
   "name": "ir"
  },
  "language_info": {
   "codemirror_mode": "r",
   "file_extension": ".r",
   "mimetype": "text/x-r-source",
   "name": "R",
   "pygments_lexer": "r",
   "version": "3.6.2"
  }
 },
 "nbformat": 4,
 "nbformat_minor": 4
}
